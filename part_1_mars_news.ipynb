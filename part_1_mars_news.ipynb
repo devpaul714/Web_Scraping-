{
 "cells": [
  {
   "cell_type": "code",
   "execution_count": null,
   "id": "2f5224a5",
   "metadata": {},
   "outputs": [],
   "source": [
    "# Import Splinter and BeautifulSoup\n",
    "from splinter import Browser\n",
    "from bs4 import BeautifulSoup as soup"
   ]
  },
  {
   "cell_type": "code",
   "execution_count": null,
   "id": "cf95a775",
   "metadata": {},
   "outputs": [],
   "source": [
    "browser = Browser('chrome')"
   ]
  },
  {
   "cell_type": "code",
   "execution_count": null,
   "id": "ec7d65d2",
   "metadata": {},
   "outputs": [],
   "source": [
    "# Visit the Mars news site\n",
    "url = 'https://static.bc-edx.com/data/web/mars_news/index.html'\n",
    "browser.visit(url)"
   ]
  },
  {
   "cell_type": "code",
   "execution_count": null,
   "id": "b5902c2e",
   "metadata": {},
   "outputs": [],
   "source": [
    "# Create a Beautiful Soup object\n",
    "html_soup = soup(html, 'html.parser')"
   ]
  },
  {
   "cell_type": "code",
   "execution_count": null,
   "id": "9e8f2c6d",
   "metadata": {},
   "outputs": [],
   "source": [
    "# Extract all the text elements\n",
    "all_texts = html_soup.find_all('div', class_=\"list_text\")\n",
    "\n",
    "for text in all_texts:\n",
    "    print(text.text)"
   ]
  },
  {
   "cell_type": "code",
   "execution_count": null,
   "id": "cf2d4e96",
   "metadata": {},
   "outputs": [],
   "source": [
    "# Create an empty list to store the dictionaries\n",
    "stored_dict = []"
   ]
  },
  {
   "cell_type": "code",
   "execution_count": null,
   "id": "cf92e1ad",
   "metadata": {},
   "outputs": [],
   "source": [
    "# Loop through the text elements\n",
    "for text in all_texts:\n",
    "\n",
    "# Extract the title and preview text from the elements\n",
    "    title = text.find('div', class_= 'content_title').text\n",
    "    preview = text.find('div', class_= 'article_teaser_body').text\n",
    "\n",
    "# Store each title and preview pair in a dictionary\n",
    "    articles_dict = {'Title': title,\n",
    "                        'Preview': preview} \n",
    "\n",
    "# Add the dictionary to the list\n",
    "    stored_dict.append(articles_dict)"
   ]
  },
  {
   "cell_type": "code",
   "execution_count": null,
   "id": "9558b044",
   "metadata": {},
   "outputs": [],
   "source": [
    "# Print the list to confirm success\n",
    "stored_dict"
   ]
  },
  {
   "cell_type": "code",
   "execution_count": null,
   "id": "49f6b875",
   "metadata": {},
   "outputs": [],
   "source": [
    "browser.quit()"
   ]
  }
 ],
 "metadata": {
  "kernelspec": {
   "display_name": "Python 3 (ipykernel)",
   "language": "python",
   "name": "python3"
  },
  "language_info": {
   "codemirror_mode": {
    "name": "ipython",
    "version": 3
   },
   "file_extension": ".py",
   "mimetype": "text/x-python",
   "name": "python",
   "nbconvert_exporter": "python",
   "pygments_lexer": "ipython3",
   "version": "3.10.9"
  }
 },
 "nbformat": 4,
 "nbformat_minor": 5
}
